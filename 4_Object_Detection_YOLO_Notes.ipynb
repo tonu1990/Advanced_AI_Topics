{
  "metadata": {
    "kernelspec": {
      "language": "python",
      "display_name": "Python 3",
      "name": "python3"
    },
    "language_info": {
      "pygments_lexer": "ipython3",
      "nbconvert_exporter": "python",
      "version": "3.6.4",
      "file_extension": ".py",
      "codemirror_mode": {
        "name": "ipython",
        "version": 3
      },
      "name": "python",
      "mimetype": "text/x-python"
    },
    "kaggle": {
      "accelerator": "none",
      "dataSources": [],
      "isInternetEnabled": false,
      "language": "python",
      "sourceType": "notebook",
      "isGpuEnabled": false
    },
    "colab": {
      "provenance": [],
      "include_colab_link": true
    }
  },
  "nbformat_minor": 0,
  "nbformat": 4,
  "cells": [
    {
      "cell_type": "markdown",
      "metadata": {
        "id": "view-in-github",
        "colab_type": "text"
      },
      "source": [
        "<a href=\"https://colab.research.google.com/github/tonu1990/Advanced_AI_Topics/blob/main/4_Object_Detection_YOLO_Notes.ipynb\" target=\"_parent\"><img src=\"https://colab.research.google.com/assets/colab-badge.svg\" alt=\"Open In Colab\"/></a>"
      ]
    },
    {
      "cell_type": "markdown",
      "source": [
        "## **Object Detection**"
      ],
      "metadata": {
        "id": "mEZ-pPOHk1zB"
      }
    },
    {
      "cell_type": "markdown",
      "source": [
        "* Object detection is a computer vision task that goes beyond simple image classification. Instead of just identifying what objects are present in an image, object detection aims to **both locate - known as object localization(i.e., draw bounding boxes around) and classify** each object within the image.\n",
        "* **Key Components:**  \n",
        "  1. **Localization:** Determine where the object is in the image (bounding box coordinates).  \n",
        "  2. **Classification:** Identify what the object is (e.g., dog, cat, car).\n",
        "\n",
        "* Object detection architectures fall into two main categories: **single-stage and two-stage detectors**.\n",
        "* **Two-stage detectors** follow a sequence of steps\n",
        "     * 1. **Region Proposal** - Generate a set of candidate regions or proposals where objects might be located\n",
        "     * 2. **Classification & Refinement:** Classify each proposed region and refine the bounding box coordinates\n",
        "* Examples:\n",
        "  - **R-CNN:**  \n",
        "    Uses selective search to generate region proposals, then extracts features from each proposal using a CNN, and finally classifies them.\n",
        "  - **Fast R-CNN:**  \n",
        "    Improves on R-CNN by processing the entire image with a CNN to create a feature map, then performing region-of-interest (RoI) pooling for each candidate region.\n",
        "  - **Faster R-CNN:**  \n",
        "    Introduces a Region Proposal Network (RPN) that shares features with the detection network, leading to faster region proposal generation and overall improved speed.\n"
      ],
      "metadata": {
        "id": "hkcba4eAk1zG"
      }
    },
    {
      "cell_type": "markdown",
      "source": [
        "### 2. One-Stage Detectors\n",
        "\n",
        "- **Overview:**  \n",
        "  These methods perform detection in a single step, directly predicting bounding boxes and class probabilities across the entire image.\n",
        "  \n",
        "- **Examples:**\n",
        "  - **YOLO (You Only Look Once):**  \n",
        "    Divides the image into a grid and simultaneously predicts bounding boxes and class probabilities for each grid cell. Known for its high speed and efficiency.\n",
        "  - **SSD (Single Shot MultiBox Detector):**  \n",
        "    Similar to YOLO in that it processes the image in one go, but uses multiple feature maps at different scales to detect objects of various sizes.\n",
        "\n",
        "- **Pros & Cons:**\n",
        "  - **Pros:**  \n",
        "    Much faster than two-stage detectors, making them suitable for real-time applications.\n",
        "  - **Cons:**  \n",
        "    Historically, one-stage detectors traded some accuracy for speed, although recent advancements (like YOLOv4/v5/v8) have significantly narrowed that gap.\n"
      ],
      "metadata": {
        "id": "I_kmrUOyk1zI"
      }
    },
    {
      "cell_type": "markdown",
      "source": [
        "N"
      ],
      "metadata": {
        "id": "2QdV5seDk1zJ"
      }
    },
    {
      "cell_type": "markdown",
      "source": [],
      "metadata": {
        "id": "goMpfQH4k1zJ"
      }
    },
    {
      "cell_type": "markdown",
      "source": [],
      "metadata": {
        "id": "qwnr0QXlk1zK"
      }
    },
    {
      "cell_type": "markdown",
      "source": [],
      "metadata": {
        "id": "g4aU_KBak1zK"
      }
    },
    {
      "cell_type": "markdown",
      "source": [],
      "metadata": {
        "id": "Rw-hzkYlk1zK"
      }
    },
    {
      "cell_type": "markdown",
      "source": [],
      "metadata": {
        "id": "M6nqA01vk1zL"
      }
    },
    {
      "cell_type": "markdown",
      "source": [],
      "metadata": {
        "id": "_jzXT6MQk1zL"
      }
    }
  ]
}