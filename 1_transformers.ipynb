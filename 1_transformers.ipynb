{
  "nbformat": 4,
  "nbformat_minor": 0,
  "metadata": {
    "colab": {
      "provenance": [],
      "authorship_tag": "ABX9TyPSzA7y03gkpkRgLiX6uTYM",
      "include_colab_link": true
    },
    "kernelspec": {
      "name": "python3",
      "display_name": "Python 3"
    },
    "language_info": {
      "name": "python"
    }
  },
  "cells": [
    {
      "cell_type": "markdown",
      "metadata": {
        "id": "view-in-github",
        "colab_type": "text"
      },
      "source": [
        "<a href=\"https://colab.research.google.com/github/tonu1990/Advanced_AI_Topics/blob/main/1_transformers.ipynb\" target=\"_parent\"><img src=\"https://colab.research.google.com/assets/colab-badge.svg\" alt=\"Open In Colab\"/></a>"
      ]
    },
    {
      "cell_type": "markdown",
      "source": [
        "Reference materials :\n",
        "\n",
        "* https://www.youtube.com/watch?v=dqoEU9Ac3ek\n"
      ],
      "metadata": {
        "id": "H63csf1NBcqG"
      }
    },
    {
      "cell_type": "markdown",
      "source": [
        "Step-by-Step Learning & Implementation Approach:\n",
        "\n",
        "**Start with Understanding Transformer Architecture (2-3 weeks)**\n",
        "\n",
        "Learn self-attention mechanism\n",
        "Study positional encoding\n",
        "Understand multi-head attention\n",
        "Practice with basic transformer implementations\n",
        "\n",
        "\n",
        "**Move to Vision Transformer Specifics (2-3 weeks)**\n",
        "\n",
        "Image patch embedding\n",
        "Learn how ViT processes images\n",
        "Study different ViT variants (DeiT, Swin)\n",
        "Implement basic ViT on simple image datasets\n",
        "\n",
        "\n",
        "**Video Processing with ViT (2-3 weeks)**\n",
        "\n",
        "Temporal attention mechanisms\n",
        "Frame sequence handling\n",
        "Video feature extraction\n",
        "Practice with simple video classification"
      ],
      "metadata": {
        "id": "jCdP2WRL_ytF"
      }
    },
    {
      "cell_type": "code",
      "execution_count": null,
      "metadata": {
        "id": "IdbVthuKBSGb"
      },
      "outputs": [],
      "source": []
    }
  ]
}